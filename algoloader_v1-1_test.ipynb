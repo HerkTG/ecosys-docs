{
  "nbformat": 4,
  "nbformat_minor": 0,
  "metadata": {
    "colab": {
      "name": "AlgoLoader_v1.1.ipynb",
      "provenance": [],
      "collapsed_sections": [],
      "include_colab_link": true
    },
    "kernelspec": {
      "name": "python3",
      "display_name": "Python 3"
    }
  },
  "cells": [
    {
      "cell_type": "markdown",
      "metadata": {
        "id": "view-in-github",
        "colab_type": "text"
      },
      "source": [
        "<a href=\"https://colab.research.google.com/gist/HerkTG/5f255e18611170ac204fcedb3f9d81e2/algoloader_v1-1.ipynb\" target=\"_parent\"><img src=\"https://colab.research.google.com/assets/colab-badge.svg\" alt=\"Open In Colab\"/></a>"
      ]
    },
    {
      "cell_type": "code",
      "metadata": {
        "id": "AYpim9TZ458E",
        "colab_type": "code",
        "cellView": "both",
        "colab": {}
      },
      "source": [
        "#User definied parameters\n",
        "host = \"https://covidv3.i.tgcloud.io\" #@param {type:\"string\"}\n",
        "graphname = \"MyGraph\" #@param {type:\"string\"}\n",
        "username = \"tigergraph\" #@param {type:\"string\"}\n",
        "password = \"tigergraph\" #@param {type:\"string\"}\n",
        "version = \"3.0.5\" #@param [\"3.0.5\", \"3.0.0\", \"2.6.2\"] {allow-input: true}\n",
        "useCert = True #@param {type:\"boolean\"}\n",
        "\n",
        "\n",
        "from IPython.utils import io\n",
        "import os\n",
        "from tqdm import tqdm\n",
        "with tqdm(total=100) as pbar:\n",
        "  with io.capture_output() as captured:\n",
        "    pbar.set_description_str('Installing pyTigerGraph')\n",
        "    \n",
        "    !pip install pytigergraph    \n",
        "    import pyTigerGraph as tg\n",
        "    pbar.update(25)\n",
        "\n",
        "    ##Grab_GSQL_Queries_BEGIN##\n",
        "    pbar.set_description_str('Fetching Algorithms')\n",
        "    import os\n",
        "    from glob import glob\n",
        "    !git clone https://github.com/tigergraph/gsql-graph-algorithms.git\n",
        "    pbar.update(25)\n",
        "    os.chdir('/content/gsql-graph-algorithms/algorithms/schema-free')\n",
        "    script_names = glob('*.gsql')\n",
        "    pbar.update(25)\n",
        "    ##Grab_GSQL_Queries_END##\n",
        "\n",
        "    ##Establish_Connection_BEGIN##\n",
        "    pbar.set_description_str('Establishing Connection')\n",
        "    conn = tg.TigerGraphConnection(host=host, graphname=graphname, username=username, password=password, version=version, useCert=useCert)\n",
        "    secret = conn.createSecret()\n",
        "    token = conn.getToken(secret, setToken=True)\n",
        "    # API_Token = conn.getToken(API_Secret, setToken=True, lifetime=None)[0]\n",
        "    pbar.update(25)\n",
        "    pbar.set_description_str('Connected')\n",
        "    ##Establish_Connection_END##\n",
        "        \n"
      ],
      "execution_count": null,
      "outputs": []
    },
    {
      "cell_type": "code",
      "metadata": {
        "id": "0FSPT-cNAqmo",
        "colab_type": "code",
        "cellView": "form",
        "colab": {}
      },
      "source": [
        "#@title\n",
        "import ipywidgets as widgets\n",
        "from IPython.display import display\n",
        "dropdown = widgets.Dropdown(\n",
        "    options=script_names,\n",
        "    description='Algo',\n",
        "    disabled=False,\n",
        "    )\n",
        "display(dropdown)\n",
        "\n",
        "import ipywidgets as widgets\n",
        "from IPython.display import display\n",
        "button = widgets.Button(description=\"Install Query\")\n",
        "output = widgets.Output()"
      ],
      "execution_count": null,
      "outputs": []
    },
    {
      "cell_type": "code",
      "metadata": {
        "id": "DWg2UynMfSGC",
        "colab_type": "code",
        "cellView": "form",
        "colab": {}
      },
      "source": [
        "#@title\n",
        "import ipywidgets as widgets\n",
        "# from IPython.display import clear_output\n",
        "from IPython.display import display\n",
        "button = widgets.Button(description=\"Install Query\")\n",
        "output = widgets.Output()\n",
        "\n",
        "def on_button_clicked(b):\n",
        "  import re\n",
        "  query = []\n",
        "  query_names = []\n",
        "  with open (dropdown.value, 'r') as file:\n",
        "      text = file.readlines()\n",
        "      for line in text:\n",
        "          new_line = line\n",
        "          if 'CREATE QUERY' in line:\n",
        "              q_name = line.find('CREATE QUERY') + 13\n",
        "              query_names.append(line[q_name:].split('(')[0].strip())\n",
        "              index = line.find(')')\n",
        "              new_line = line[:index +1] + f\" FOR GRAPH {graphname}\" + line[index+1:]\n",
        "\n",
        "          query.append(new_line)\n",
        "          Gsql_query = \"\".join(query)\n",
        "  \n",
        "  for name in query_names:\n",
        "      Gsql_query += ' INSTALL QUERY ' + name\n",
        "  print(\"\\nQuery is now Installing... Grab a cup of coffee  (approx ~wait 1-2 mins)\")    \n",
        "  conn.gsql(Gsql_query)\n",
        "  \n",
        "\n",
        "  with output:\n",
        "    # clear_output()\n",
        "    print('''\n",
        "\n",
        "     (^\\-==-/^)\n",
        "     >\\\\ == //<\n",
        "    :== q''p ==:     _\n",
        "     .__ qp __.    .' )\n",
        "      / ^--^ \\    /\\.'\n",
        "     /_`    / )  '\\/\n",
        "     (  )  \\  |-'-/\n",
        "     \\^^,   |-|--'\n",
        "    ( `'    |_| )\n",
        "     \\-     |-|/\n",
        "    (( )^---( )) sk\n",
        "\n",
        "      ''')\n",
        "    print(\"=========================================\\nCONGRATULATIONS, YOUR QUERY IS INSTALLED!\\n=========================================\\n\")\n",
        "    print(Gsql_query)\n",
        "\n",
        "button.on_click(on_button_clicked)\n",
        "display(button, output)\n"
      ],
      "execution_count": null,
      "outputs": []
    }
  ]
}